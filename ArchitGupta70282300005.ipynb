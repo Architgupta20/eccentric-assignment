{
  "cells": [
    {
      "cell_type": "markdown",
      "metadata": {
        "id": "view-in-github",
        "colab_type": "text"
      },
      "source": [
        "<a href=\"https://colab.research.google.com/github/Architgupta20/eccentric-assignment/blob/main/ArchitGupta70282300005.ipynb\" target=\"_parent\"><img src=\"https://colab.research.google.com/assets/colab-badge.svg\" alt=\"Open In Colab\"/></a>"
      ]
    },
    {
      "cell_type": "code",
      "execution_count": null,
      "metadata": {
        "id": "LD6vYG0D3HBK"
      },
      "outputs": [],
      "source": [
        "# Installing torch + torchvision (CUDA 12.1 build)\n",
        "!pip install -q torch torchvision --index-url https://download.pytorch.org/whl/cu121"
      ]
    },
    {
      "cell_type": "code",
      "execution_count": null,
      "metadata": {
        "id": "tXKm74C-Bwv4"
      },
      "outputs": [],
      "source": [
        "# Installing diffusion + helper libraries:\n",
        "!pip install -q diffusers transformers accelerate safetensors controlnet_aux xformers"
      ]
    },
    {
      "cell_type": "code",
      "execution_count": null,
      "metadata": {
        "id": "vDje-UbaB-PA"
      },
      "outputs": [],
      "source": [
        "# Login to Hugging Face\n",
        "from huggingface_hub import login\n",
        "from getpass import getpass\n",
        "\n",
        "# Please paste your Hugging Face Token:\n",
        "login(token=getpass(\"Paste your Hugging Face token: \"))"
      ]
    },
    {
      "cell_type": "code",
      "execution_count": null,
      "metadata": {
        "id": "SJK723lzv4nD"
      },
      "outputs": [],
      "source": [
        "import os, json, random, torch\n",
        "from diffusers import StableDiffusionXLPipeline, StableDiffusionXLImg2ImgPipeline, UniPCMultistepScheduler"
      ]
    },
    {
      "cell_type": "code",
      "execution_count": null,
      "metadata": {
        "id": "bOtCE9quB-Rs"
      },
      "outputs": [],
      "source": [
        "# Define model\n",
        "model_id = \"stabilityai/stable-diffusion-xl-base-1.0\"\n",
        "\n",
        "# Load base pipeline\n",
        "pipe = StableDiffusionXLPipeline.from_pretrained(\n",
        "    model_id,\n",
        "    torch_dtype=torch.float16,\n",
        "    use_safetensors=True\n",
        ").to(\"cuda\")\n",
        "\n",
        "pipe.scheduler = UniPCMultistepScheduler.from_config(pipe.scheduler.config)\n",
        "print(\"✅ SDXL base model loaded\")"
      ]
    },
    {
      "cell_type": "code",
      "execution_count": null,
      "metadata": {
        "id": "1knwwCssB-Un"
      },
      "outputs": [],
      "source": [
        "locations = {\n",
        "    \"Bandra_Worli_Sea_Link\": [\n",
        "    \"Bandra-Worli Sea Link, Mumbai, dawn aerial view, mist hovering above the water, golden sunlight glinting on bridge cables, a few cars leaving glowing streaks, city skyline fading into soft clouds, captured with a 24mm wide-angle DSLR lens, cinematic HD photograph\",\n",
        "    \"Bandra-Worli Sea Link, Mumbai, twilight side view, reflections of neon city lights dancing on calm waves, rain-slick bridge surface, motorcycles and cars leaving motion trails, subtle fog around distant towers, shot with 50mm lens, imaginative cinematic HD photo\",\n",
        "    \"Bandra-Worli Sea Link, Mumbai, close-up of bridge suspension cables in the soft orange glow of sunset, tiny birds perched on cables, reflections of the sky in rippling water below, shallow depth-of-field using 85mm telephoto lens, magical realistic HD photograph\"\n",
        "    ],\n",
        "\n",
        "    \"Hawa_Mahal_Jaipur\": [\n",
        "    \"Hawa Mahal, Jaipur, front view at sunrise, soft pink sandstone glowing warmly, morning mist weaving between balconies, a street musician playing in the background, pigeons flying across the facade, captured with 35mm DSLR lens, dreamy HD photo\",\n",
        "    \"Hawa Mahal, Jaipur, side-top angle, sunbeams catching carved windows, bustling market stalls casting colorful shadows, local people walking with umbrellas, rooftops glowing in golden light, 24mm wide-angle lens, cinematic HD photograph\",\n",
        "    \"Hawa Mahal, Jaipur, close-up of upper jharokhas in late morning, sunlight streaming through intricate carvings creating dramatic shadows, small group of tourists pausing to admire details, shallow depth-of-field with 85mm lens, artistic HD photo\"\n",
        "    ],\n",
        "\n",
        "    \"Nagpur_Rainforest\": [\n",
        "    \"Nagpur rainforest, aerial view at dawn, mist curling through the dense treetops like soft clouds, sunlight breaking in golden beams, occasional birds gliding through the canopy, captured with drone and 16mm wide-angle lens, magical HD landscape photo\",\n",
        "    \"Nagpur rainforest, ground-level trail with small stream, sunlight filtering through thick leaves forming natural spotlights, wet rocks sparkling, a deer glimpsed in the shadows, shot with 50mm lens, immersive HD close-up\",\n",
        "    \"Nagpur rainforest, wide-angle view during golden afternoon, fog lifting from distant trees revealing layered greens, tiny waterfall in the distance, light rays piercing canopy gaps, captured with 24mm wide-angle DSLR lens, cinematic HD landscape photo\"\n",
        "    ]\n",
        "}\n",
        "\n",
        "print(\"✅ Prompts ready: highly imaginative, cinematic, HD, realistic, location-specific, and unique.\")"
      ]
    },
    {
      "cell_type": "code",
      "execution_count": null,
      "metadata": {
        "id": "MwLXbXY4B-Xb"
      },
      "outputs": [],
      "source": [
        "# Generating 9 images (3 per location) and saving the metadata\n",
        "\n",
        "import os, json, random, torch\n",
        "\n",
        "# Create output folder\n",
        "output_dir = \"eccentric_outputs\"\n",
        "os.makedirs(output_dir, exist_ok=True)\n",
        "\n",
        "metadata = []  # to store reproducibility details\n",
        "\n",
        "for loc, prompts in locations.items():\n",
        "    # Create sub-folder for each location\n",
        "    loc_folder = os.path.join(output_dir, loc)\n",
        "    os.makedirs(loc_folder, exist_ok=True)\n",
        "\n",
        "    for i, prompt in enumerate(prompts):\n",
        "        # Use a fixed random seed for reproducibility\n",
        "        seed = random.randint(1, 2**31-1)\n",
        "        generator = torch.Generator(\"cuda\").manual_seed(seed)\n",
        "\n",
        "        # Generate the image\n",
        "        image = pipe(\n",
        "            prompt=prompt,\n",
        "            negative_prompt=\"blurry, low quality, distorted, unrealistic\",\n",
        "            num_inference_steps=40,   # steps to refine image\n",
        "            guidance_scale=7.5,       # how strongly the model follows prompt\n",
        "            generator=generator\n",
        "        ).images[0]\n",
        "\n",
        "        # Save image\n",
        "        filename = f\"{loc}_view_{i+1}.png\"\n",
        "        filepath = os.path.join(loc_folder, filename)\n",
        "        image.save(filepath)\n",
        "\n",
        "        # Save metadata\n",
        "        metadata.append({\n",
        "            \"location\": loc,\n",
        "            \"view\": i+1,\n",
        "            \"prompt\": prompt,\n",
        "            \"seed\": seed,\n",
        "            \"file\": filepath,\n",
        "            \"model\": model_id,\n",
        "            \"steps\": 70,\n",
        "            \"guidance\": 7.5\n",
        "        })\n",
        "\n",
        "# Save metadata JSON file\n",
        "with open(os.path.join(output_dir, \"metadata.json\"), \"w\") as f:\n",
        "    json.dump(metadata, f, indent=2)\n",
        "\n",
        "print(\"✅ Generated 9 images and saved metadata in eccentric_outputs/\")"
      ]
    }
  ],
  "metadata": {
    "accelerator": "GPU",
    "colab": {
      "gpuType": "T4",
      "provenance": [],
      "include_colab_link": true
    },
    "kernelspec": {
      "display_name": "Python 3",
      "name": "python3"
    },
    "language_info": {
      "name": "python"
    }
  },
  "nbformat": 4,
  "nbformat_minor": 0
}